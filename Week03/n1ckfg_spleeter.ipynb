{
  "cells": [
    {
      "cell_type": "code",
      "execution_count": null,
      "metadata": {
        "id": "f8Brdfh6mzEz"
      },
      "outputs": [],
      "source": [
        "#@title <b>Spleeter</b>\n",
        "#@markdown <ol><li>Set these options:</li></ol>\n",
        "\n",
        "# * * * * * * * * * *\n",
        "#@markdown <ul><li><i>This controls the number of output tracks.</i></li></ul>\n",
        "stem_output = '2stems' #@param [\"2stems\", \"4stems\", \"5stems\"]\n",
        "# * * * * * * * * * *\n",
        "\n",
        "#@markdown <ol start=2><li>Click <b>Play</b> to run the script.</li><li>Click the <b>Choose</b> button when it appears, and select files to upload.</li><li>Click <b>Allow</b> if prompted, to permit downloading multiple files.</li><li>The output files will download automatically when processing is complete.</li></ol>\n",
        "\n",
        "!pip -q install spleeter\n",
        "\n",
        "from google.colab import files\n",
        "import subprocess\n",
        "\n",
        "%cd /content/\n",
        "\n",
        "!rm *.mp3\n",
        "!rm *.m4a\n",
        "!rm *.wav\n",
        "!rm *.aiff\n",
        "!rm *.aif\n",
        "!rm *.ogg\n",
        "!rm *.wma\n",
        "!rm *.aac\n",
        "!rm *.flac\n",
        "!rm spleeter-output.zip\n",
        "!rm -rf output\n",
        "!mkdir output\n",
        "\n",
        "uploadList = files.upload()\n",
        "\n",
        "def runCmd(cmd):\n",
        "    returns = \"\"\n",
        "    try:\n",
        "        returns = subprocess.check_output(cmd, text=True)\n",
        "    except subprocess.CalledProcessError as e:\n",
        "        returns = f\"Command failed with return code {e.returncode}\"\n",
        "    print(returns)\n",
        "    return returns\n",
        "\n",
        "for inputFile in uploadList:\n",
        "    runCmd([\"spleeter\", \"separate\", \"-p\", \"spleeter:\" + stem_output, \"-o\", \"output\", inputFile])\n",
        "\n",
        "runCmd([\"zip\", \"-r\", \"/content/spleeter-output.zip\", \"/content/output\"])\n",
        "\n",
        "files.download(\"spleeter-output.zip\")\n",
        "\n",
        "'''\n",
        "n1ckfg-meshlab.ipynb\n",
        "Copyright (c) 2023 Nick Fox-Gieg Animation\n",
        "https://fox-gieg.com\n",
        "\n",
        "Permission is hereby granted, free of charge, to any person obtaining a copy of\n",
        "this software and associated documentation files (the “Software”), to deal in\n",
        "the Software without restriction, including without limitation the rights to\n",
        "use, copy, modify, merge, publish, distribute, sublicense, and/or sell copies of\n",
        "the Software, and to permit persons to whom the Software is furnished to do so,\n",
        "subject to the following conditions:\n",
        "\n",
        "The above copyright notice and this permission notice shall be included in all\n",
        "copies or substantial portions of the Software.\n",
        "\n",
        "THE SOFTWARE IS PROVIDED “AS IS”, WITHOUT WARRANTY OF ANY KIND, EXPRESS OR\n",
        "IMPLIED, INCLUDING BUT NOT LIMITED TO THE WARRANTIES OF MERCHANTABILITY, FITNESS\n",
        "FOR A PARTICULAR PURPOSE AND NONINFRINGEMENT. IN NO EVENT SHALL THE AUTHORS OR\n",
        "COPYRIGHT HOLDERS BE LIABLE FOR ANY CLAIM, DAMAGES OR OTHER LIABILITY, WHETHER\n",
        "IN AN ACTION OF CONTRACT, TORT OR OTHERWISE, ARISING FROM, OUT OF OR IN\n",
        "CONNECTION WITH THE SOFTWARE OR THE USE OR OTHER DEALINGS IN THE SOFTWARE.\n",
        "'''"
      ]
    },
    {
      "cell_type": "markdown",
      "source": [],
      "metadata": {
        "id": "bTI67TKtEsrB"
      }
    }
  ],
  "metadata": {
    "colab": {
      "provenance": [],
      "private_outputs": true,
      "gpuType": "T4"
    },
    "kernelspec": {
      "display_name": "Python 3",
      "name": "python3"
    },
    "accelerator": "GPU"
  },
  "nbformat": 4,
  "nbformat_minor": 0
}