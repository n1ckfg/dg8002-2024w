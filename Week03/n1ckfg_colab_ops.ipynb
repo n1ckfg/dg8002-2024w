{
  "nbformat": 4,
  "nbformat_minor": 0,
  "metadata": {
    "colab": {
      "private_outputs": true,
      "provenance": [],
      "collapsed_sections": [
        "nofNUmh2HpGa"
      ]
    },
    "kernelspec": {
      "name": "python3",
      "display_name": "Python 3"
    },
    "language_info": {
      "name": "python"
    }
  },
  "cells": [
    {
      "cell_type": "markdown",
      "source": [
        "## Colab Ops"
      ],
      "metadata": {
        "id": "tMyLY8YRvIDT"
      }
    },
    {
      "cell_type": "markdown",
      "source": [
        "### Basic"
      ],
      "metadata": {
        "id": "Mu2xc3-oHacL"
      }
    },
    {
      "cell_type": "code",
      "source": [
        "# STATUS\n",
        "!nvidia-smi && free -h && python --version && pip --version && nvcc --version && gcc --version"
      ],
      "metadata": {
        "id": "v65ofhcBeISM"
      },
      "execution_count": null,
      "outputs": []
    },
    {
      "cell_type": "code",
      "source": [
        "# STATUS (NO GPU)\n",
        "!free -h && python --version && pip --version && gcc --version"
      ],
      "metadata": {
        "id": "jDmrukRntc6i"
      },
      "execution_count": null,
      "outputs": []
    },
    {
      "cell_type": "code",
      "metadata": {
        "id": "NjL7FBTsHgNG"
      },
      "source": [
        "# GDRIVE\n",
        "from google.colab import drive\n",
        "drive.mount('/content/drive', force_remount=True)"
      ],
      "execution_count": null,
      "outputs": []
    },
    {
      "cell_type": "code",
      "metadata": {
        "id": "lvGLoFiyusNb"
      },
      "source": [
        "# DOWNLOAD\n",
        "from google.colab import files\n",
        "files.download(\"output.mp4\")"
      ],
      "execution_count": null,
      "outputs": []
    },
    {
      "cell_type": "code",
      "source": [
        "# UPLOAD\n",
        "from google.colab import files\n",
        "uploadList = files.upload()\n",
        "\n",
        "# iterate\n",
        "for inputFile in uploadList:\n",
        "    print(inputFile)\n",
        "\n",
        "# get first file only\n",
        "inputFile = next(iter(uploadList))"
      ],
      "metadata": {
        "id": "qSsVHLYP8ym4"
      },
      "execution_count": null,
      "outputs": []
    },
    {
      "cell_type": "code",
      "metadata": {
        "id": "XOHtAtAmHru8"
      },
      "source": [
        "# ZIP FILES\n",
        "%cd \"/content/drive/My Drive/COLAB/vox2vox-pytorch/models\"\n",
        "!zip output.zip *.pth"
      ],
      "execution_count": null,
      "outputs": []
    },
    {
      "cell_type": "code",
      "source": [
        "# ZIP DIRECTORY\n",
        "%cd \"/content/drive/My Drive/COLAB/vox2vox-pytorch/models\"\n",
        "!zip -r rgbtoxyz.zip rgbtoxyz"
      ],
      "metadata": {
        "id": "-atEsai480VX"
      },
      "execution_count": null,
      "outputs": []
    },
    {
      "cell_type": "code",
      "source": [
        "# UNZIP\n",
        "!unzip output.zip"
      ],
      "metadata": {
        "id": "SGmcwOQdAMEA"
      },
      "execution_count": null,
      "outputs": []
    },
    {
      "cell_type": "code",
      "source": [
        "# TEST FOR FILE\n",
        "import os\n",
        "if (os.path.exists(\"/path/to/file\")):\n",
        "    pass"
      ],
      "metadata": {
        "id": "Ek23tSnx-7OX"
      },
      "execution_count": null,
      "outputs": []
    },
    {
      "cell_type": "code",
      "source": [
        "# INSTALL LATEST PYTORCH\n",
        "!pip install torch torchvision -f https://download.pytorch.org/whl/torch_stable.html"
      ],
      "metadata": {
        "id": "J4mqc7HTtPxS"
      },
      "execution_count": null,
      "outputs": []
    },
    {
      "cell_type": "code",
      "source": [
        "# HUGGINGFACE ACCESS\n",
        "!pip install huggingface_hub\n",
        "!git config --global credential.helper store\n",
        "!huggingface-cli login"
      ],
      "metadata": {
        "id": "UQf0vwCOAN4k"
      },
      "execution_count": null,
      "outputs": []
    },
    {
      "cell_type": "code",
      "metadata": {
        "id": "0V5h1LRNupus"
      },
      "source": [
        "# FFMPEG STILLS TO VIDEO\n",
        "!ffmpeg -i example/output/%06d.png output.mp4"
      ],
      "execution_count": null,
      "outputs": []
    },
    {
      "cell_type": "code",
      "source": [
        "# PARSE ARGUMENTS\n",
        "import sys\n",
        "argv = sys.argv\n",
        "argv = argv[argv.index(\"--\") + 1:] # get all args after \"--\""
      ],
      "metadata": {
        "id": "9f00mmAW0Iw1"
      },
      "execution_count": null,
      "outputs": []
    },
    {
      "cell_type": "markdown",
      "source": [
        "### Advanced"
      ],
      "metadata": {
        "id": "xscWIAWM4Zfy"
      }
    },
    {
      "cell_type": "code",
      "source": [
        "# RUN SHELL COMMAND\n",
        "import subprocess\n",
        "\n",
        "def runCmd(cmd, shell=False):\n",
        "    returns = \"\"\n",
        "    try:\n",
        "        returns = subprocess.check_output(cmd, text=True, shell=shell)\n",
        "    except subprocess.CalledProcessError as e:\n",
        "        returns = f\"Command failed: return code {e.returncode}\"\n",
        "        #returns = f\"Command failed: output {e.output}\"\n",
        "        #returns = f\"Command failed: error message: {e.stderr}\"\n",
        "    print(returns)\n",
        "    return returns\n",
        "\n",
        "'''\n",
        "# example\n",
        "for inputFile in uploadList:\n",
        "    runCmd([\"spleeter\", \"separate\", \"-p\", \"spleeter:\" + stem_output, \"-o\", \"output\", inputFile])\n",
        "'''"
      ],
      "metadata": {
        "id": "T3Nk0pIr0MS9"
      },
      "execution_count": null,
      "outputs": []
    },
    {
      "cell_type": "code",
      "source": [
        "# REMOVE PATH WITHOUT ERROR\n",
        "import os\n",
        "def runRm(path):\n",
        "    if os.path.exists(path):\n",
        "        os.remove(path)"
      ],
      "metadata": {
        "id": "edXdI-1IChP5"
      },
      "execution_count": null,
      "outputs": []
    },
    {
      "cell_type": "code",
      "source": [
        "# COPY DIRECTORY\n",
        "from distutils.dir_util import copy_tree\n",
        "def runCopyDir(src_dir, dst_dir):\n",
        "    copy_tree(src_dir, dst_dir)"
      ],
      "metadata": {
        "id": "0pI3ef8HCrX8"
      },
      "execution_count": null,
      "outputs": []
    },
    {
      "cell_type": "code",
      "source": [
        "# INSTALL NODE.JS\n",
        "NODE_DIR=\"node-v18.18.0-linux-x64\"\n",
        "NODE_URL=\"https://nodejs.org/dist/v18.18.0/\" + NODE_DIR + \".tar.xz\"\n",
        "NODE_FILE=NODE_DIR + \".tar.xz\"\n",
        "!wget $NODE_URL\n",
        "\n",
        "!tar -xvf $NODE_FILE\n",
        "!cp -r $NODE_DIR/bin/* /usr/local/bin/\n",
        "!cp -r $NODE_DIR/include/* /usr/local/include/\n",
        "!cp -r $NODE_DIR/lib/* /usr/local/lib/\n",
        "!cp -r $NODE_DIR/share/* /usr/local/share/\n",
        "!rm -rf $NODE_DIR.tar.xz $NODE_DIR\n",
        "!node --version && npm --version"
      ],
      "metadata": {
        "id": "g9ZvNe9mtmvK"
      },
      "execution_count": null,
      "outputs": []
    },
    {
      "cell_type": "code",
      "source": [
        "# INSTALL PIP\n",
        "!wget https://bootstrap.pypa.io/get-pip.py\n",
        "!python get-pip.py\n",
        "!rm get-pip.py"
      ],
      "metadata": {
        "id": "ZD16ald0Rup9"
      },
      "execution_count": null,
      "outputs": []
    },
    {
      "cell_type": "code",
      "source": [
        "# UPGRADE PIP\n",
        "!pip install wheel setuptools pip --upgrade"
      ],
      "metadata": {
        "id": "TZ2PUOlk8LfL"
      },
      "execution_count": null,
      "outputs": []
    },
    {
      "cell_type": "code",
      "source": [
        "# CHANGE PYTHON VERSION\n",
        "PYTHON_VERSION=3.7\n",
        "!apt-get install python$PYTHON_VERSION\n",
        "!ln -sf /usr/bin/python$PYTHON_VERSION /usr/bin/python\n",
        "!ln -sf /usr/bin/python$PYTHON_VERSION /usr/bin/python3\n",
        "!apt-get install python$PYTHON_VERSION-distutils python$PYTHON_VERSION-dev"
      ],
      "metadata": {
        "id": "cGGfXeU8eqBm"
      },
      "execution_count": null,
      "outputs": []
    },
    {
      "cell_type": "code",
      "source": [
        "# CHANGE GCC VERSION\n",
        "!apt-get install gcc-9 g++-9\n",
        "!update-alternatives --install /usr/bin/gcc gcc /usr/bin/gcc-9 60 --slave /usr/bin/g++ g++ /usr/bin/g++-9"
      ],
      "metadata": {
        "id": "SLqFCe4Y6g8r"
      },
      "execution_count": null,
      "outputs": []
    },
    {
      "cell_type": "code",
      "source": [
        "# INSTALL PYTORCH AND MATCH CUDA VERSION\n",
        "!pip uninstall torch torchvision -y\n",
        "!pip install torch==1.12.0 torchvision==0.13.0 -f https://data.pyg.org/whl/torch-1.12.0+cu113.html\n",
        "import torch\n",
        "print(torch.__version__)"
      ],
      "metadata": {
        "id": "30wA31y_L_kc"
      },
      "execution_count": null,
      "outputs": []
    },
    {
      "cell_type": "code",
      "source": [
        "# CHECK GPU SUPPORT\n",
        "import torch\n",
        "import onnxruntime as ort\n",
        "torch.cuda.is_available() # Nvidia GPU\n",
        "ort.get_device() # any GPU"
      ],
      "metadata": {
        "id": "Ibh0mlr32E1N"
      },
      "execution_count": null,
      "outputs": []
    },
    {
      "cell_type": "code",
      "source": [
        "# TENSORFLOW 1 (NEEDS PYTHON VERSION 3.7)\n",
        "!pip install tensorflow-gpu==1.14.0"
      ],
      "metadata": {
        "id": "jhbCy6FWWdqO"
      },
      "execution_count": null,
      "outputs": []
    },
    {
      "cell_type": "code",
      "source": [
        "# WRAP OUTPUT\n",
        "from IPython.display import HTML, display\n",
        "\n",
        "def set_css():\n",
        "    display(HTML('''<style>pre{white-space:pre-wrap;}</style>'''))\n",
        "\n",
        "get_ipython().events.register('pre_run_cell', set_css)"
      ],
      "metadata": {
        "id": "ySLdv3y9vIsE"
      },
      "execution_count": null,
      "outputs": []
    },
    {
      "cell_type": "markdown",
      "source": [
        "### Markdown"
      ],
      "metadata": {
        "id": "nofNUmh2HpGa"
      }
    },
    {
      "cell_type": "code",
      "source": [
        "#@title ### Markdown Examples:\n",
        "\n",
        "# Boolean fields\n",
        "boolean_checkbox = True #@param {type:\"boolean\"}\n",
        "boolean_dropdown = True #@param [\"False\", \"True\"] {type:\"raw\"}\n",
        "\n",
        "#@markdown ---\n",
        "# Number fields\n",
        "number_input = 10.0 #@param {type:\"number\"}\n",
        "number_slider = 0 #@param {type:\"slider\", min:-1, max:1, step:0.1}\n",
        "integer_input = 10 #@param {type:\"integer\"}\n",
        "integer_slider = 1 #@param {type:\"slider\", min:0, max:100, step:1}\n",
        "\n",
        "#@markdown ---\n",
        "# Date fields\n",
        "date_input = '2018-03-22' #@param {type:\"date\"}\n",
        "\n",
        "#@markdown ---\n",
        "# Raw fields\n",
        "raw_input = None #@param {type:\"raw\"}\n",
        "raw_dropdown = raw_input #@param [1, \"raw_input\", \"False\", \"'string'\"] {type:\"raw\"}\n",
        "\n",
        "#@markdown ---\n",
        "# String fields\n",
        "text = 'value' #@param {type:\"string\"}\n",
        "dropdown = '1st option' #@param [\"1st option\", \"2nd option\", \"3rd option\"]\n",
        "text_and_dropdown = 'value' #@param [\"1st option\", \"2nd option\", \"3rd option\"] {allow-input: true}"
      ],
      "metadata": {
        "id": "HXD966ptuGp7",
        "cellView": "form"
      },
      "execution_count": null,
      "outputs": []
    },
    {
      "cell_type": "markdown",
      "source": [
        "### Conda"
      ],
      "metadata": {
        "id": "LeL9gZgu8c1i"
      }
    },
    {
      "cell_type": "code",
      "source": [
        "# INSTALL CONDA v1\n",
        "MINICONDA_INSTALLER_SCRIPT=\"Miniconda3-latest-Linux-x86_64.sh\"\n",
        "MINICONDA_PREFIX=\"/usr/local\"\n",
        "!wget \"https://repo.anaconda.com/miniconda/$MINICONDA_INSTALLER_SCRIPT\"\n",
        "!chmod +x $MINICONDA_INSTALLER_SCRIPT\n",
        "!./\"$MINICONDA_INSTALLER_SCRIPT\" -b -f -p \"$MINICONDA_PREFIX\"\n",
        "!conda init\n",
        "#!source /usr/local/etc/profile.d/conda.sh\n",
        "#!source ~/.bashrc"
      ],
      "metadata": {
        "id": "2f8lpytOjkbo"
      },
      "execution_count": null,
      "outputs": []
    },
    {
      "cell_type": "code",
      "source": [
        "# INSTALL CONDA v2\n",
        "!pip install -q condacolab\n",
        "import condacolab\n",
        "condacolab.install()\n",
        "!conda init"
      ],
      "metadata": {
        "id": "30PUYDTwYf72"
      },
      "execution_count": null,
      "outputs": []
    },
    {
      "cell_type": "code",
      "source": [
        "# CONDA CHANGE PYTHON VERSION\n",
        "!conda install -y python=3.7"
      ],
      "metadata": {
        "id": "d0mnYPpRelAW"
      },
      "execution_count": null,
      "outputs": []
    },
    {
      "cell_type": "code",
      "source": [
        "# CONDA ACTIVATE ENVIRONMENT\n",
        "PYTHON_VERSION=3.7\n",
        "CONDA_ENV_NAME=\"my_env\"\n",
        "\n",
        "!conda create -y --name $CONDA_ENV_NAME python=$PYTHON_VERSION\n",
        "!source /usr/local/bin/activate $CONDA_ENV_NAME && conda env list"
      ],
      "metadata": {
        "id": "FQVNzAogHwgX"
      },
      "execution_count": null,
      "outputs": []
    },
    {
      "cell_type": "code",
      "source": [
        "# CONDA CHANGE ACTIVE CUDA TOOLKIT VERSION\n",
        "!conda install -y pytorch==1.12.0 torchvision==0.13.0 cudatoolkit=11.3 -c pytorch"
      ],
      "metadata": {
        "id": "AuU8x61lFxen"
      },
      "execution_count": null,
      "outputs": []
    },
    {
      "cell_type": "markdown",
      "source": [
        "### CUDA"
      ],
      "metadata": {
        "id": "pimC4D0jHFcM"
      }
    },
    {
      "cell_type": "code",
      "source": [
        "# INSTALL NEW CUDA TOOLKIT v1\n",
        "# Find these urls for your CUDA version: https://developer.nvidia.com/cuda-toolkit-archive\n",
        "!wget https://developer.download.nvidia.com/compute/cuda/repos/ubuntu2004/x86_64/cuda-ubuntu2004.pin\n",
        "!mv cuda-ubuntu2004.pin /etc/apt/preferences.d/cuda-repository-pin-600\n",
        "!wget https://developer.download.nvidia.com/compute/cuda/11.3.1/local_installers/cuda-repo-ubuntu2004-11-3-local_11.3.1-465.19.01-1_amd64.deb\n",
        "!dpkg -i cuda-repo-ubuntu2004-11-3-local_11.3.1-465.19.01-1_amd64.deb\n",
        "!apt-key add /var/cuda-repo-ubuntu2004-11-3-local/7fa2af80.pub\n",
        "\n",
        "!apt-get update\n",
        "!apt-get -y install --no-install-recommends cuda-11-3"
      ],
      "metadata": {
        "id": "IRpbN9vSSilw"
      },
      "execution_count": null,
      "outputs": []
    },
    {
      "cell_type": "code",
      "source": [
        "# INSTALL NEW CUDA TOOLKIT v2 (BROKEN INTERACTIVE PROMPT)\n",
        "# Find this url for your CUDA version: https://developer.nvidia.com/cuda-toolkit-archive\n",
        "!wget https://developer.download.nvidia.com/compute/cuda/11.3.1/local_installers/cuda_11.3.1_465.19.01_linux.run\n",
        "!sh cuda_11.3.1_465.19.01_linux.run"
      ],
      "metadata": {
        "id": "CJ5_AFSrLt5r"
      },
      "execution_count": null,
      "outputs": []
    },
    {
      "cell_type": "code",
      "source": [
        "# CHANGE ACTIVE CUDA TOOLKIT VERSION\n",
        "CUDA_MAJOR=11\n",
        "CUDA_MINOR=3\n",
        "\n",
        "!export CUDA_HOME=/usr/local/cuda-$CUDA_MAJOR.$CUDA_MINOR\n",
        "!export PATH=/usr/local/cuda-$CUDA_MAJOR.$CUDA_MINOR/bin${PATH:+:${PATH}}\n",
        "!export LD_LIBRARY_PATH=/usr/local/cuda-$CUDA_MAJOR.$CUDA_MINOR/lib64\n",
        "\n",
        "!rm -rf /usr/local/cuda\n",
        "!ln -sf /usr/local/cuda-$CUDA_MAJOR.$CUDA_MINOR/ /usr/local/cuda"
      ],
      "metadata": {
        "id": "4C0STNvy6BPb"
      },
      "execution_count": null,
      "outputs": []
    }
  ]
}